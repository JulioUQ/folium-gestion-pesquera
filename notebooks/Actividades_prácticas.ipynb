{
 "cells": [
  {
   "cell_type": "markdown",
   "id": "06b3659b",
   "metadata": {},
   "source": [
    "<div style=\"width: 100%; clear: both;\">\n",
    "    <div style=\"float: left; width: 50%;\">\n",
    "       <img src=\"https://raw.githubusercontent.com/JulioUQ/folium-gestion-pesquera/main/img/logo-datascience.png\", align=\"left\">\n",
    "    </div>\n",
    "</div>\n",
    "\n",
    "<div style=\"float: right; width: 50%;\">\n",
    "    <p style=\"margin: 0; padding-top: 22px; text-align:right;\">Julio Úbeda Quesada</p>\n",
    "    <p style=\"margin: 0; text-align:right;\">Científico de datos y especialista en machine learning</p>\n",
    "    <p style=\"margin: 0; text-align:right; padding-button: 100px;\">Manual de aprendizaje - Creación de mapas interactivos</p>\n",
    "</div>\n",
    "\n",
    "</div>\n",
    "<div style=\"width: 100%; clear: both;\">\n",
    "<div style=\"width:100%;\">&nbsp;</div>"
   ]
  },
  {
   "cell_type": "markdown",
   "id": "2d7fcc13",
   "metadata": {},
   "source": [
    "# **Actividades prácticas**\n",
    "\n",
    "## **1. Crea y guarda tu primer mapa con folium**\n",
    "\n",
    "1. Crea un mapa centrado en Buenos Aires con un zoom de 10.\n",
    "2. Prueba con tres estilos (tiles) distintos y guarda cada versión en HTML."
   ]
  },
  {
   "cell_type": "markdown",
   "id": "d806903c",
   "metadata": {},
   "source": [
    "## **2. Puntos de interés en ciudades de tu país**\n",
    "\n",
    "1. Crea un mapa con 3 marcadores en diferentes ciudades de tu país.\n",
    "2. A cada uno añádele un tooltip y un popup con HTML.\n",
    "3. Guarda el mapa en HTML."
   ]
  },
  {
   "cell_type": "markdown",
   "id": "f1b63354",
   "metadata": {},
   "source": [
    "## **3. Añadiendo dimensiones al mapa**\n",
    "1. Crea un mapa con tres capas:\n",
    "  - Una capa de marcadores con al menos 3 puntos.\n",
    "  - Una capa de polilínea que conecte esos puntos.\n",
    "  - Una capa de polígono que cubra la zona.\n",
    "2. Añade LayerControl() para poder alternar las capas.\n",
    "3. Guarda el resultado en un archivo mapa_capas.html.\n",
    "\n"
   ]
  },
  {
   "cell_type": "markdown",
   "id": "e8895a6a",
   "metadata": {},
   "source": [
    "## **4. Turismo en la ciudad**\n",
    "1. Descarga un dataset CSV con coordenadas de puntos turísticos de tu ciudad.\n",
    "2. Crea un mapa que muestre cada punto con un marcador y popup con nombre y descripción.\n",
    "3. Añade una capa GeoJSON con límites de la ciudad.\n",
    "4. Guarda el resultado en mapa_turístico.html.\n",
    "\n"
   ]
  },
  {
   "cell_type": "markdown",
   "id": "b7a1700a",
   "metadata": {},
   "source": [
    "## **5. Personalizando mapas**\n",
    "1. Carga un CSV con datos y valores numéricos.\n",
    "2. Crea marcadores con color dinámico según el valor.\n",
    "3. Usa iconos personalizados para al menos un marcador.\n",
    "4. Añade una escala de colores al mapa.\n",
    "5. Guarda el resultado como mapa_personalizado.html."
   ]
  }
 ],
 "metadata": {
  "language_info": {
   "name": "python"
  }
 },
 "nbformat": 4,
 "nbformat_minor": 5
}
